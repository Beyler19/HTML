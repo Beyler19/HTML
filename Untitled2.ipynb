{
  "nbformat": 4,
  "nbformat_minor": 0,
  "metadata": {
    "colab": {
      "provenance": [],
      "authorship_tag": "ABX9TyPE2T3ETv3fjF8Iqcqoqect",
      "include_colab_link": true
    },
    "kernelspec": {
      "name": "python3",
      "display_name": "Python 3"
    },
    "language_info": {
      "name": "python"
    }
  },
  "cells": [
    {
      "cell_type": "markdown",
      "metadata": {
        "id": "view-in-github",
        "colab_type": "text"
      },
      "source": [
        "<a href=\"https://colab.research.google.com/github/Beyler19/HTML/blob/main/Untitled2.ipynb\" target=\"_parent\"><img src=\"https://colab.research.google.com/assets/colab-badge.svg\" alt=\"Open In Colab\"/></a>"
      ]
    },
    {
      "cell_type": "code",
      "execution_count": 1,
      "metadata": {
        "colab": {
          "base_uri": "https://localhost:8080/"
        },
        "id": "M1IL-R89ZFxT",
        "outputId": "5dc782f9-1b99-4d5f-d58e-ef7a3f5d29ba"
      },
      "outputs": [
        {
          "output_type": "stream",
          "name": "stdout",
          "text": [
            "1) String: 123 | Tip: <class 'str'>\n",
            "2) Tam ədəd: 19\n",
            "3) 500 / 2 = 250.0\n",
            "4) a < b: True\n",
            "   a == b: False\n",
            "5) (x < y) and (y < z): True\n",
            "6) Tam bölmə: 6\n",
            "   Qalıq: 1\n",
            "   Adi bölmə: 6.25\n",
            "7) 3^4 = 81\n",
            "8) Tam qiymət: 75 | Tip: <class 'int'>\n",
            "9) (n > 10) or (n < 5): True\n",
            "   (n > 15) and (n < 25): True\n",
            "10) Float: 42.8 | Tip: <class 'float'>\n",
            "    Tam ədəd: 42 | Tip: <class 'int'>\n"
          ]
        }
      ],
      "source": [
        "# 1) 123 rəqəmini string/character-ə çevirin və tipini yoxlayın\n",
        "num = 123\n",
        "num_str = str(num)\n",
        "print(\"1) String:\", num_str, \"| Tip:\", type(num_str))\n",
        "\n",
        "# 2) 19.99 dəyərini tam ədədə çevirin və nəticəni çap edin\n",
        "num2 = 19.99\n",
        "int_num2 = int(num2)\n",
        "print(\"2) Tam ədəd:\", int_num2)\n",
        "\n",
        "# 3) \"500\" dəyərini numericə çevirin və 2-yə bölüb nəticəni çap edin\n",
        "s = \"500\"\n",
        "s_num = int(s)\n",
        "print(\"3) 500 / 2 =\", s_num / 2)\n",
        "\n",
        "# 4) a = 8 və b = 12 yaradın. a < b və a == b şərtlərini yoxlayın, nəticələri çap edin\n",
        "a = 8\n",
        "b = 12\n",
        "print(\"4) a < b:\", a < b)\n",
        "print(\"   a == b:\", a == b)\n",
        "\n",
        "# 5) x = 5, y = 10, z = 15 yaradın. (x < y) and (y < z) şərtini yoxlayın və nəticəni çap edin\n",
        "x, y, z = 5, 10, 15\n",
        "print(\"5) (x < y) and (y < z):\", (x < y) and (y < z))\n",
        "\n",
        "# 6) 25-i 4-ə bölün. Tam bölmə, qalıq və adi bölmə nəticələrini çap edin\n",
        "tam_bolme = 25 // 4\n",
        "qaliq = 25 % 4\n",
        "adi_bolme = 25 / 4\n",
        "print(\"6) Tam bölmə:\", tam_bolme)\n",
        "print(\"   Qalıq:\", qaliq)\n",
        "print(\"   Adi bölmə:\", adi_bolme)\n",
        "\n",
        "# 7) 3-ü 4-cü dərəcəyə qaldırın və nəticəni çap edin\n",
        "print(\"7) 3^4 =\", 3**4)\n",
        "\n",
        "# 8) qiymet = 75.5 yaradın. Onu tam ədədə çevirin və tipini yoxlayın\n",
        "qiymet = 75.5\n",
        "qiymet_int = int(qiymet)\n",
        "print(\"8) Tam qiymət:\", qiymet_int, \"| Tip:\", type(qiymet_int))\n",
        "\n",
        "# 9) n = 20 yaradın. (n > 10) or (n < 5) və (n > 15) and (n < 25) şərtlərini yoxlayın, nəticələri çap edin\n",
        "n = 20\n",
        "print(\"9) (n > 10) or (n < 5):\", (n > 10) or (n < 5))\n",
        "print(\"   (n > 15) and (n < 25):\", (n > 15) and (n < 25))\n",
        "\n",
        "# 10) \"42.8\" dəyərini əvvəl float-a, sonra tam ədədə çevirin və hər addımda tipi yoxlayın\n",
        "sayi = \"42.8\"\n",
        "float_sayi = float(sayi)\n",
        "int_sayi = int(float_sayi)\n",
        "print(\"10) Float:\", float_sayi, \"| Tip:\", type(float_sayi))\n",
        "print(\"    Tam ədəd:\", int_sayi, \"| Tip:\", type(int_sayi))\n"
      ]
    },
    {
      "cell_type": "code",
      "source": [
        "# 1) s = \"Programming\" yaradın. Uzunluğunu və ilk simvolunu çap edin.\n",
        "s = \"Programming\"\n",
        "print(\"1) Uzunluğu:\", len(s))\n",
        "print(\"   İlk simvol:\", s[0])\n",
        "\n",
        "# 2) s1 = \"Hello\" və s2 = \"World\" yaradın. Onları boşluqla birləşdirin və nəticəni çap edin.\n",
        "s1 = \"Hello\"\n",
        "s2 = \"World\"\n",
        "birlesmis = s1 + \" \" + s2\n",
        "print(\"2) Birləşmiş:\", birlesmis)\n",
        "\n",
        "# 3) text = \"Python\" yaradın. Son simvolunu çap edin.\n",
        "text = \"Python\"\n",
        "print(\"3) Son simvol:\", text[-1])\n",
        "\n",
        "# 4) s = \"Artificial\" yaradın. \"Art\" hissəsini ilə çıxarın və çap edin.\n",
        "s = \"Artificial\"\n",
        "print(\"4) 'Art' olmadan:\", s[3:])\n",
        "\n",
        "# 5) word = \"Code\" yaradın. Tərsinə çevirin və nəticəni çap edin.\n",
        "word = \"Code\"\n",
        "print(\"5) Tərsinə:\", word[::-1])\n",
        "\n",
        "# 6) s = \"abcdefgh\" yaradın. Hər ikinci simvolu alın və çap edin.\n",
        "s = \"abcdefgh\"\n",
        "print(\"6) Hər ikinci simvol:\", s[::2])\n",
        "\n",
        "# 7) text = \"data\" yaradın. Onu bir sətrlik kodla böyük hərflərə və kiçik hərflərə çevirib çap edin.\n",
        "text = \"data\"\n",
        "print(\"7) Böyük:\", text.upper(), \"| Kiçik:\", text.lower())\n",
        "\n",
        "# 8) s = \"Python-R-Java\" yaradın. \"-\" ilə ayırın (split(\"-\")) və nəticəni çap edin.\n",
        "s = \"Python-R-Java\"\n",
        "print(\"8) Split:\", s.split(\"-\"))\n",
        "\n",
        "# 9) ad = \"Ayxan\" və yaş = 25 yaradın. f-string ilə \"Ayxan 25 yaşındadır\" çap edin.\n",
        "ad = \"Ayxan\"\n",
        "yas = 25\n",
        "print(f\"9) {ad} {yas} yaşındadır\")\n",
        "\n",
        "# 10) s = \"salam-dunya\" yaradın. \"-\"ni boşluqla əvəz edin və nəticəni çap edin.\n",
        "s = \"salam-dunya\"\n",
        "print(\"10) Əvəz edilmiş:\", s.replace(\"-\", \" \"))\n"
      ],
      "metadata": {
        "colab": {
          "base_uri": "https://localhost:8080/"
        },
        "id": "MJ0_m3NtZLVD",
        "outputId": "6a2d879c-b977-4125-c18e-f67f4b09f308"
      },
      "execution_count": 2,
      "outputs": [
        {
          "output_type": "stream",
          "name": "stdout",
          "text": [
            "1) Uzunluğu: 11\n",
            "   İlk simvol: P\n",
            "2) Birləşmiş: Hello World\n",
            "3) Son simvol: n\n",
            "4) 'Art' olmadan: ificial\n",
            "5) Tərsinə: edoC\n",
            "6) Hər ikinci simvol: aceg\n",
            "7) Böyük: DATA | Kiçik: data\n",
            "8) Split: ['Python', 'R', 'Java']\n",
            "9) Ayxan 25 yaşındadır\n",
            "10) Əvəz edilmiş: salam dunya\n"
          ]
        }
      ]
    },
    {
      "cell_type": "code",
      "source": [
        "# 1) 5, 10, 15, 20 rəqəmlərindən ibarət “rəqəmlər” adlı list yaradın\n",
        "reqemler = [5, 10, 15, 20]\n",
        "print(\"1) reqemler:\", reqemler)\n",
        "\n",
        "# 2) “rəqəmlər” listinin uzunluğunu tapın\n",
        "print(\"2) Uzunluq:\", len(reqemler))\n",
        "\n",
        "# 3) “rəqəmlər” listinə 25 elementini əlavə edin\n",
        "reqemler.append(25)\n",
        "print(\"3) Əlavə olunmuş 25:\", reqemler)\n",
        "\n",
        "# 4) “rəqəmlər” listinin 2-ci indeksinə 12 elementini əlavə edin\n",
        "reqemler.insert(2, 12)\n",
        "print(\"4) 2-ci indeksə 12:\", reqemler)\n",
        "\n",
        "# 5) 1, 2, 3 və 4, 5, 6 listlərini birləşdirin\n",
        "list1 = [1, 2, 3]\n",
        "list2 = [4, 5, 6]\n",
        "birlesmis_list = list1 + list2\n",
        "print(\"5) Birləşmiş list:\", birlesmis_list)\n",
        "\n",
        "# 6) “rəqəmlər” listindən 2-ci və 3-cü elementləri seçin\n",
        "print(\"6) 2 və 3-cü elementlər:\", reqemler[2:4])\n",
        "\n",
        "# 7) “rəqəmlər” listinin ilk elementini 50 ilə əvəz edin\n",
        "reqemler[0] = 50\n",
        "print(\"7) İlk element 50 oldu:\", reqemler)\n",
        "\n",
        "# 8) “rəqəmlər” listində 19 elementinin olub-olmadığını yoxlayın\n",
        "print(\"8) 19 var?\", 19 in reqemler)\n",
        "\n",
        "# 9) \"a\", \"b\", \"a\", \"c\" listində \"a\" neçə dəfə təkrarlanıb\n",
        "hərflər = [\"a\", \"b\", \"a\", \"c\"]\n",
        "print(\"9) 'a' sayı:\", hərflər.count(\"a\"))\n",
        "\n",
        "# 10) \"x\", \"y\", \"x\", \"z\" listindən \"x\" elementlərini silin\n",
        "hərflər2 = [\"x\", \"y\", \"x\", \"z\"]\n",
        "hərflər2 = [h for h in hərflər2 if h != \"x\"]\n",
        "print(\"10) 'x'siz:\", hərflər2)\n",
        "\n",
        "# 11) 7, 2, 9, 1 listini azalan sırayla sıralayın\n",
        "siyahi = [7, 2, 9, 1]\n",
        "siyahi.sort(reverse=True)\n",
        "print(\"11) Azalan sıra:\", siyahi)\n",
        "\n",
        "# 12) “rəqəmlər” listindən 10-dan böyük elementləri seçin\n",
        "boyuk_10 = [x for x in reqemler if x > 10]\n",
        "print(\"12) 10-dan böyük rəqəmlər:\", boyuk_10)\n"
      ],
      "metadata": {
        "colab": {
          "base_uri": "https://localhost:8080/"
        },
        "id": "1FooHM0yZiEj",
        "outputId": "1f1f2573-43d4-4915-e45e-bf49972a0b15"
      },
      "execution_count": 3,
      "outputs": [
        {
          "output_type": "stream",
          "name": "stdout",
          "text": [
            "1) reqemler: [5, 10, 15, 20]\n",
            "2) Uzunluq: 4\n",
            "3) Əlavə olunmuş 25: [5, 10, 15, 20, 25]\n",
            "4) 2-ci indeksə 12: [5, 10, 12, 15, 20, 25]\n",
            "5) Birləşmiş list: [1, 2, 3, 4, 5, 6]\n",
            "6) 2 və 3-cü elementlər: [12, 15]\n",
            "7) İlk element 50 oldu: [50, 10, 12, 15, 20, 25]\n",
            "8) 19 var? False\n",
            "9) 'a' sayı: 2\n",
            "10) 'x'siz: ['y', 'z']\n",
            "11) Azalan sıra: [9, 7, 2, 1]\n",
            "12) 10-dan böyük rəqəmlər: [50, 12, 15, 20, 25]\n"
          ]
        }
      ]
    },
    {
      "cell_type": "code",
      "source": [
        "import pandas as pd\n",
        "\n",
        "# 1) 10, 20, 30, 40 elementlərindən ibarət s1 adlı series yaradın\n",
        "s1 = pd.Series([10, 20, 30, 40])\n",
        "print(\"1) s1:\\n\", s1)\n",
        "\n",
        "# 2) s1-ə 'w', 'x', 'y', 'z' indekslərini təyin edin\n",
        "s1.index = ['w', 'x', 'y', 'z']\n",
        "print(\"2) Yeni indeksli s1:\\n\", s1)\n",
        "\n",
        "# 3) {'p': 5, 'q': 10, 'r': 15} dictionary-dən s2 adlı Series yaradın\n",
        "s2 = pd.Series({'p': 5, 'q': 10, 'r': 15})\n",
        "print(\"3) s2:\\n\", s2)\n",
        "\n",
        "# 4) s2-dən 'q' indeksli elementi seçin\n",
        "print(\"4) s2['q']:\", s2['q'])\n",
        "\n",
        "# 5) s1-dən 25-dən böyük elementləri seçin\n",
        "print(\"5) s1 > 25:\\n\", s1[s1 > 25])\n",
        "\n",
        "# 6) s1-də 20-dən böyük elementləri 10-a bölün\n",
        "print(\"6) s1 > 20 böl 10:\\n\", s1[s1 > 20] / 10)\n",
        "\n",
        "# 7) ((1, 2), (3, 4)) listindən df1 adlı dataframe yaradın\n",
        "df1 = pd.DataFrame([(1, 2), (3, 4)])\n",
        "print(\"7) df1:\\n\", df1)\n",
        "\n",
        "# 8) df1-ə ('r1', 'r2') sətir və ('c1', 'c2') sütun adlarını təyin edin\n",
        "df1.index = ['r1', 'r2']\n",
        "df1.columns = ['c1', 'c2']\n",
        "print(\"8) Yeni adlarla df1:\\n\", df1)\n",
        "\n",
        "# 9) {'A': [1, 2], 'B': [3, 4]} dictionary-dən df2 yaradın\n",
        "df2 = pd.DataFrame({'A': [1, 2], 'B': [3, 4]})\n",
        "print(\"9) df2:\\n\", df2)\n",
        "\n",
        "# 10) df2-də 'A' sütunu 1-dən böyük olan sətirləri seçin\n",
        "print(\"10) A > 1 olan sətirlər:\\n\", df2[df2['A'] > 1])\n"
      ],
      "metadata": {
        "colab": {
          "base_uri": "https://localhost:8080/"
        },
        "id": "IhDsRSVyZtDU",
        "outputId": "a9f2d60d-713f-4b97-80dd-c929fd288d2a"
      },
      "execution_count": 5,
      "outputs": [
        {
          "output_type": "stream",
          "name": "stdout",
          "text": [
            "1) s1:\n",
            " 0    10\n",
            "1    20\n",
            "2    30\n",
            "3    40\n",
            "dtype: int64\n",
            "2) Yeni indeksli s1:\n",
            " w    10\n",
            "x    20\n",
            "y    30\n",
            "z    40\n",
            "dtype: int64\n",
            "3) s2:\n",
            " p     5\n",
            "q    10\n",
            "r    15\n",
            "dtype: int64\n",
            "4) s2['q']: 10\n",
            "5) s1 > 25:\n",
            " y    30\n",
            "z    40\n",
            "dtype: int64\n",
            "6) s1 > 20 böl 10:\n",
            " y    3.0\n",
            "z    4.0\n",
            "dtype: float64\n",
            "7) df1:\n",
            "    0  1\n",
            "0  1  2\n",
            "1  3  4\n",
            "8) Yeni adlarla df1:\n",
            "     c1  c2\n",
            "r1   1   2\n",
            "r2   3   4\n",
            "9) df2:\n",
            "    A  B\n",
            "0  1  3\n",
            "1  2  4\n",
            "10) A > 1 olan sətirlər:\n",
            "    A  B\n",
            "1  2  4\n"
          ]
        }
      ]
    },
    {
      "cell_type": "code",
      "source": [],
      "metadata": {
        "id": "TAPn7V8dZ0tL"
      },
      "execution_count": null,
      "outputs": []
    }
  ]
}